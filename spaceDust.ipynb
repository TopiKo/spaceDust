{
 "cells": [
  {
   "cell_type": "code",
   "execution_count": 1,
   "metadata": {
    "collapsed": true
   },
   "outputs": [],
   "source": [
    "import numpy as np\n",
    "import matplotlib.pyplot as plt\n",
    "from matplotlib.animation import FuncAnimation\n",
    "import config\n",
    "\n",
    "from IPython.display import HTML"
   ]
  },
  {
   "cell_type": "markdown",
   "metadata": {},
   "source": [
    "### Numerically propagate Newtons Gravity model for many particles"
   ]
  },
  {
   "cell_type": "code",
   "execution_count": 61,
   "metadata": {
    "collapsed": true
   },
   "outputs": [],
   "source": [
    "def init_r(D, n):\n",
    "    r = np.random.normal(loc = D, scale = D/4, size = n)\n",
    "    thetas = np.random.rand(n)*2*np.pi\n",
    "    \n",
    "    rs = np.zeros((n,2))\n",
    "    rs[:,0] = r*np.cos(thetas)\n",
    "    rs[:,1] = r*np.sin(thetas)\n",
    "    return rs\n",
    "\n",
    "def init_v(r, v):\n",
    "    \n",
    "    rn = np.zeros((len(r), 3))\n",
    "    rn[:,:2] = r\n",
    "    \n",
    "    zs = np.zeros(rn.shape)\n",
    "    zs[:,2] = v\n",
    "    \n",
    "    return np.cross(zs,rn)[:,:2]\n",
    "\n",
    "def init_reset(D,V, n = 100):\n",
    "    r = init_r(D, n) #np.random.rand(8,2)*10 #np.array([[0.,-1.], [1.,0.], [0.,1.], [-1.,0]])\n",
    "    v = init_v(r, V) \n",
    "    a = np.zeros((len(r), len(r[0])))\n",
    "    F = np.zeros((len(r), len(r[0])))\n",
    "    config.masses_ = np.linspace(.1, 1, len(r))*2 #np.array([10000., 1]) #\n",
    "    #config.masses_[0] = 1000\n",
    "    #r[0] = [0,0]\n",
    "    #v[0] = [0,0]\n",
    "    \n",
    "    dt = .001\n",
    "    nframes = 1000\n",
    "    config.mask_ = np.zeros(n).astype(bool)\n",
    "    config.r_ = np.ma.array(r, mask=False)\n",
    "    config.v_ = np.ma.array(v, mask=False)\n",
    "    config.a_ = np.ma.array(a, mask=False)\n",
    "    config.F_ = np.ma.array(F, mask=False)\n",
    "    config.dir_ij_arr_ = np.ma.zeros((len(r), len(r), len(r[0])))\n",
    "    config.collision_threshold_ = .1\n",
    "    return dt, nframes\n",
    "    \n",
    "dt, nframes = init_reset(3, 1, n = 100)    "
   ]
  },
  {
   "cell_type": "code",
   "execution_count": 25,
   "metadata": {
    "collapsed": true
   },
   "outputs": [],
   "source": [
    "def dir_ij():\n",
    "    \"\"\"\n",
    "    Update the direction matrix from each particle to every other particle\n",
    "    \"\"\"\n",
    "    idxs = np.where(~config.r_.mask[:,0])[0]\n",
    "    rsubst = config.r_[idxs].copy()\n",
    "    for i,j in enumerate(idxs):\n",
    "        config.r_.mask[j] = True\n",
    "        config.dir_ij_arr_[j] = config.r_ - rsubst[i]\n",
    "        config.r_.mask[j] = False\n",
    "    \n",
    "\n",
    "def mask_all():\n",
    "    \n",
    "    config.r_.mask[:,:] = config.mask_[:,np.newaxis]\n",
    "    config.v_.mask[:,:] = config.mask_[:,np.newaxis]\n",
    "    config.a_.mask[:,:] = config.mask_[:,np.newaxis]\n",
    "    config.F_.mask[:,:] = config.mask_[:,np.newaxis]\n",
    "    config.dir_ij_arr_.mask[:,:,:] = config.mask_[np.newaxis,:,np.newaxis]\n",
    "    \n",
    "def Forces():\n",
    "    \"\"\"\n",
    "    Calculate the gravitational Force on each particle due to other particles\n",
    "    \n",
    "    returns\n",
    "    -------\n",
    "    Forces : Matrix with force on particle i on i:th row\n",
    "    \"\"\"    \n",
    "    masses_arr = np.tile(config.masses_, len(config.r_)).reshape(config.dir_ij_arr_.shape[:2] + (1,))\n",
    "    \n",
    "    #print(config.dir_ij_arr_[1,:,:])\n",
    "    \n",
    "    dirs_m = config.dir_ij_arr_/config.norms_*masses_arr\n",
    "    config.F_ = np.dot(np.diag(config.masses_), (dirs_m/config.norms_**2).sum(axis = 1))\n",
    "    return config.F_"
   ]
  },
  {
   "cell_type": "markdown",
   "metadata": {},
   "source": [
    "#### From Forces calculate the everything needed :) "
   ]
  },
  {
   "cell_type": "code",
   "execution_count": 103,
   "metadata": {},
   "outputs": [
    {
     "name": "stdout",
     "output_type": "stream",
     "text": [
      "[ 4  7 17 18 19 24 27 44 51 52 75 84]\n",
      "[68 81 88 87 72 34 49 64 60 49 72 96]\n",
      "[[-- --]\n",
      " [-- --]\n",
      " [-- --]\n",
      " [-- --]\n",
      " [-- --]\n",
      " [-- --]\n",
      " [-- --]\n",
      " [-- --]\n",
      " [-- --]\n",
      " [-- --]\n",
      " [-- --]\n",
      " [-- --]]\n"
     ]
    }
   ],
   "source": [
    "def update_positions_and_velocities(): #r, v, dt = .01):\n",
    "    \n",
    "    # Update the directions\n",
    "    dir_ij()\n",
    "    \n",
    "    norms = np.linalg.norm(config.dir_ij_arr_, axis = 2, keepdims = True) #*masses\n",
    "    config.norms_ = np.ma.array(norms, mask = config.dir_ij_arr_.mask[:,:,:1])\n",
    "    \n",
    "    collision_idxs = np.transpose(np.where(config.norms_ < config.collision_threshold_)).astype(int)\n",
    "\n",
    "    firstSmaller = config.masses_[collision_idxs[:,0]] < config.masses_[collision_idxs[:,1]]\n",
    "    annihilate_idxs = collision_idxs[firstSmaller,0]\n",
    "    grow_bigger_idxs = collision_idxs[firstSmaller,1]\n",
    "    \n",
    "    #print(collision_idxs)\n",
    "    print(annihilate_idxs)\n",
    "    print(grow_bigger_idxs)\n",
    "    #print(firstSmaller)\n",
    "    #config.v_[grow_bigger_idxs] = (config.v_[grow_bigger_idxs]*config.masses_[grow_bigger_idxs, np.newaxis] \\\n",
    "    #                             + config.v_[annihilate_idxs]*config.masses_[annihilate_idxs, np.newaxis]) \\\n",
    "    #                             / (config.masses_[grow_bigger_idxs, np.newaxis] + config.masses_[annihilate_idxs, np.newaxis])\n",
    "    #print(config.v_[grow_bigger_idxs]*config.masses_[grow_bigger_idxs, np.newaxis]) # \\\n",
    "    #print(config.v_[annihilate_idxs]*config.masses_[annihilate_idxs, np.newaxis])\n",
    "    #print(config.v_[grow_bigger_idxs])\n",
    "    # Update the masses The same is required for velocities!!\n",
    "    config.masses_[grow_bigger_idxs] += config.masses_[annihilate_idxs]\n",
    "    config.mask_[annihilate_idxs] = True\n",
    "    \n",
    "    print(config.dir_ij_arr_[grow_bigger_idxs, annihilate_idxs, :])\n",
    "    \n",
    "    #print(annihilate_idxs)\n",
    "    # mask everything since particles have vanished\n",
    "    mask_all()\n",
    "    \n",
    "    #print(config.r_[annihilate_idxs])\n",
    "    #print(config.r_[grow_bigger_idxs])\n",
    "    \n",
    "    config.a_  = np.dot(np.diag(1/config.masses_), Forces())\n",
    "    config.v_ += config.a_*dt\n",
    "    config.r_ += dt*config.v_ #+ .5*config.a_*dt**2\n",
    "    \n",
    "    \n",
    "update_positions_and_velocities()    "
   ]
  },
  {
   "cell_type": "markdown",
   "metadata": {},
   "source": [
    "#### Animate using pyplot"
   ]
  },
  {
   "cell_type": "code",
   "execution_count": 29,
   "metadata": {},
   "outputs": [
    {
     "name": "stderr",
     "output_type": "stream",
     "text": [
      "/usr/local/lib/python3.5/dist-packages/numpy/linalg/linalg.py:2197: RuntimeWarning: overflow encountered in multiply\n",
      "  s = (x.conj() * x).real\n"
     ]
    },
    {
     "ename": "KeyboardInterrupt",
     "evalue": "",
     "output_type": "error",
     "traceback": [
      "\u001b[0;31m---------------------------------------------------------------------------\u001b[0m",
      "\u001b[0;31mKeyboardInterrupt\u001b[0m                         Traceback (most recent call last)",
      "\u001b[0;32m<ipython-input-29-1c9e43cac08a>\u001b[0m in \u001b[0;36m<module>\u001b[0;34m()\u001b[0m\n\u001b[1;32m     37\u001b[0m                     \u001b[0minit_func\u001b[0m\u001b[0;34m=\u001b[0m\u001b[0minit\u001b[0m\u001b[0;34m,\u001b[0m \u001b[0mblit\u001b[0m\u001b[0;34m=\u001b[0m\u001b[0;32mTrue\u001b[0m\u001b[0;34m,\u001b[0m\u001b[0;34m\u001b[0m\u001b[0m\n\u001b[1;32m     38\u001b[0m                     interval = dt*10000)\n\u001b[0;32m---> 39\u001b[0;31m \u001b[0mHTML\u001b[0m\u001b[0;34m(\u001b[0m\u001b[0mani\u001b[0m\u001b[0;34m.\u001b[0m\u001b[0mto_html5_video\u001b[0m\u001b[0;34m(\u001b[0m\u001b[0;34m)\u001b[0m\u001b[0;34m)\u001b[0m\u001b[0;34m\u001b[0m\u001b[0m\n\u001b[0m\u001b[1;32m     40\u001b[0m \u001b[0;31m#plt.clf()\u001b[0m\u001b[0;34m\u001b[0m\u001b[0;34m\u001b[0m\u001b[0m\n",
      "\u001b[0;32m/usr/local/lib/python3.5/dist-packages/matplotlib/animation.py\u001b[0m in \u001b[0;36mto_html5_video\u001b[0;34m(self)\u001b[0m\n\u001b[1;32m   1207\u001b[0m                                 \u001b[0mbitrate\u001b[0m\u001b[0;34m=\u001b[0m\u001b[0mrcParams\u001b[0m\u001b[0;34m[\u001b[0m\u001b[0;34m'animation.bitrate'\u001b[0m\u001b[0;34m]\u001b[0m\u001b[0;34m,\u001b[0m\u001b[0;34m\u001b[0m\u001b[0m\n\u001b[1;32m   1208\u001b[0m                                 fps=1000. / self._interval)\n\u001b[0;32m-> 1209\u001b[0;31m                 \u001b[0mself\u001b[0m\u001b[0;34m.\u001b[0m\u001b[0msave\u001b[0m\u001b[0;34m(\u001b[0m\u001b[0mf\u001b[0m\u001b[0;34m.\u001b[0m\u001b[0mname\u001b[0m\u001b[0;34m,\u001b[0m \u001b[0mwriter\u001b[0m\u001b[0;34m=\u001b[0m\u001b[0mwriter\u001b[0m\u001b[0;34m)\u001b[0m\u001b[0;34m\u001b[0m\u001b[0m\n\u001b[0m\u001b[1;32m   1210\u001b[0m \u001b[0;34m\u001b[0m\u001b[0m\n\u001b[1;32m   1211\u001b[0m             \u001b[0;31m# Now open and base64 encode\u001b[0m\u001b[0;34m\u001b[0m\u001b[0;34m\u001b[0m\u001b[0m\n",
      "\u001b[0;32m/usr/local/lib/python3.5/dist-packages/matplotlib/animation.py\u001b[0m in \u001b[0;36msave\u001b[0;34m(self, filename, writer, fps, dpi, codec, bitrate, extra_args, metadata, extra_anim, savefig_kwargs)\u001b[0m\n\u001b[1;32m   1061\u001b[0m                         \u001b[0;31m# TODO: See if turning off blit is really necessary\u001b[0m\u001b[0;34m\u001b[0m\u001b[0;34m\u001b[0m\u001b[0m\n\u001b[1;32m   1062\u001b[0m                         \u001b[0manim\u001b[0m\u001b[0;34m.\u001b[0m\u001b[0m_draw_next_frame\u001b[0m\u001b[0;34m(\u001b[0m\u001b[0md\u001b[0m\u001b[0;34m,\u001b[0m \u001b[0mblit\u001b[0m\u001b[0;34m=\u001b[0m\u001b[0;32mFalse\u001b[0m\u001b[0;34m)\u001b[0m\u001b[0;34m\u001b[0m\u001b[0m\n\u001b[0;32m-> 1063\u001b[0;31m                     \u001b[0mwriter\u001b[0m\u001b[0;34m.\u001b[0m\u001b[0mgrab_frame\u001b[0m\u001b[0;34m(\u001b[0m\u001b[0;34m**\u001b[0m\u001b[0msavefig_kwargs\u001b[0m\u001b[0;34m)\u001b[0m\u001b[0;34m\u001b[0m\u001b[0m\n\u001b[0m\u001b[1;32m   1064\u001b[0m \u001b[0;34m\u001b[0m\u001b[0m\n\u001b[1;32m   1065\u001b[0m         \u001b[0;31m# Reconnect signal for first draw if necessary\u001b[0m\u001b[0;34m\u001b[0m\u001b[0;34m\u001b[0m\u001b[0m\n",
      "\u001b[0;32m/usr/local/lib/python3.5/dist-packages/matplotlib/animation.py\u001b[0m in \u001b[0;36mgrab_frame\u001b[0;34m(self, **savefig_kwargs)\u001b[0m\n\u001b[1;32m    326\u001b[0m             \u001b[0;31m# frame format and dpi.\u001b[0m\u001b[0;34m\u001b[0m\u001b[0;34m\u001b[0m\u001b[0m\n\u001b[1;32m    327\u001b[0m             self.fig.savefig(self._frame_sink(), format=self.frame_format,\n\u001b[0;32m--> 328\u001b[0;31m                              dpi=self.dpi, **savefig_kwargs)\n\u001b[0m\u001b[1;32m    329\u001b[0m         \u001b[0;32mexcept\u001b[0m \u001b[0;34m(\u001b[0m\u001b[0mRuntimeError\u001b[0m\u001b[0;34m,\u001b[0m \u001b[0mIOError\u001b[0m\u001b[0;34m)\u001b[0m \u001b[0;32mas\u001b[0m \u001b[0me\u001b[0m\u001b[0;34m:\u001b[0m\u001b[0;34m\u001b[0m\u001b[0m\n\u001b[1;32m    330\u001b[0m             \u001b[0mout\u001b[0m\u001b[0;34m,\u001b[0m \u001b[0merr\u001b[0m \u001b[0;34m=\u001b[0m \u001b[0mself\u001b[0m\u001b[0;34m.\u001b[0m\u001b[0m_proc\u001b[0m\u001b[0;34m.\u001b[0m\u001b[0mcommunicate\u001b[0m\u001b[0;34m(\u001b[0m\u001b[0;34m)\u001b[0m\u001b[0;34m\u001b[0m\u001b[0m\n",
      "\u001b[0;32m/usr/local/lib/python3.5/dist-packages/matplotlib/figure.py\u001b[0m in \u001b[0;36msavefig\u001b[0;34m(self, *args, **kwargs)\u001b[0m\n\u001b[1;32m   1571\u001b[0m             \u001b[0mself\u001b[0m\u001b[0;34m.\u001b[0m\u001b[0mset_frameon\u001b[0m\u001b[0;34m(\u001b[0m\u001b[0mframeon\u001b[0m\u001b[0;34m)\u001b[0m\u001b[0;34m\u001b[0m\u001b[0m\n\u001b[1;32m   1572\u001b[0m \u001b[0;34m\u001b[0m\u001b[0m\n\u001b[0;32m-> 1573\u001b[0;31m         \u001b[0mself\u001b[0m\u001b[0;34m.\u001b[0m\u001b[0mcanvas\u001b[0m\u001b[0;34m.\u001b[0m\u001b[0mprint_figure\u001b[0m\u001b[0;34m(\u001b[0m\u001b[0;34m*\u001b[0m\u001b[0margs\u001b[0m\u001b[0;34m,\u001b[0m \u001b[0;34m**\u001b[0m\u001b[0mkwargs\u001b[0m\u001b[0;34m)\u001b[0m\u001b[0;34m\u001b[0m\u001b[0m\n\u001b[0m\u001b[1;32m   1574\u001b[0m \u001b[0;34m\u001b[0m\u001b[0m\n\u001b[1;32m   1575\u001b[0m         \u001b[0;32mif\u001b[0m \u001b[0mframeon\u001b[0m\u001b[0;34m:\u001b[0m\u001b[0;34m\u001b[0m\u001b[0m\n",
      "\u001b[0;32m/usr/local/lib/python3.5/dist-packages/matplotlib/backend_bases.py\u001b[0m in \u001b[0;36mprint_figure\u001b[0;34m(self, filename, dpi, facecolor, edgecolor, orientation, format, **kwargs)\u001b[0m\n\u001b[1;32m   2250\u001b[0m                 \u001b[0morientation\u001b[0m\u001b[0;34m=\u001b[0m\u001b[0morientation\u001b[0m\u001b[0;34m,\u001b[0m\u001b[0;34m\u001b[0m\u001b[0m\n\u001b[1;32m   2251\u001b[0m                 \u001b[0mbbox_inches_restore\u001b[0m\u001b[0;34m=\u001b[0m\u001b[0m_bbox_inches_restore\u001b[0m\u001b[0;34m,\u001b[0m\u001b[0;34m\u001b[0m\u001b[0m\n\u001b[0;32m-> 2252\u001b[0;31m                 **kwargs)\n\u001b[0m\u001b[1;32m   2253\u001b[0m         \u001b[0;32mfinally\u001b[0m\u001b[0;34m:\u001b[0m\u001b[0;34m\u001b[0m\u001b[0m\n\u001b[1;32m   2254\u001b[0m             \u001b[0;32mif\u001b[0m \u001b[0mbbox_inches\u001b[0m \u001b[0;32mand\u001b[0m \u001b[0mrestore_bbox\u001b[0m\u001b[0;34m:\u001b[0m\u001b[0;34m\u001b[0m\u001b[0m\n",
      "\u001b[0;32m/usr/local/lib/python3.5/dist-packages/matplotlib/backends/backend_agg.py\u001b[0m in \u001b[0;36mprint_raw\u001b[0;34m(self, filename_or_obj, *args, **kwargs)\u001b[0m\n\u001b[1;32m    535\u001b[0m             \u001b[0mclose\u001b[0m \u001b[0;34m=\u001b[0m \u001b[0;32mFalse\u001b[0m\u001b[0;34m\u001b[0m\u001b[0m\n\u001b[1;32m    536\u001b[0m         \u001b[0;32mtry\u001b[0m\u001b[0;34m:\u001b[0m\u001b[0;34m\u001b[0m\u001b[0m\n\u001b[0;32m--> 537\u001b[0;31m             \u001b[0mfileobj\u001b[0m\u001b[0;34m.\u001b[0m\u001b[0mwrite\u001b[0m\u001b[0;34m(\u001b[0m\u001b[0mrenderer\u001b[0m\u001b[0;34m.\u001b[0m\u001b[0m_renderer\u001b[0m\u001b[0;34m.\u001b[0m\u001b[0mbuffer_rgba\u001b[0m\u001b[0;34m(\u001b[0m\u001b[0;34m)\u001b[0m\u001b[0;34m)\u001b[0m\u001b[0;34m\u001b[0m\u001b[0m\n\u001b[0m\u001b[1;32m    538\u001b[0m         \u001b[0;32mfinally\u001b[0m\u001b[0;34m:\u001b[0m\u001b[0;34m\u001b[0m\u001b[0m\n\u001b[1;32m    539\u001b[0m             \u001b[0;32mif\u001b[0m \u001b[0mclose\u001b[0m\u001b[0;34m:\u001b[0m\u001b[0;34m\u001b[0m\u001b[0m\n",
      "\u001b[0;31mKeyboardInterrupt\u001b[0m: "
     ]
    }
   ],
   "source": [
    "import numpy as np\n",
    "import matplotlib.pyplot as plt\n",
    "from matplotlib.animation import FuncAnimation\n",
    "\n",
    "rnorm = 15\n",
    "dt, nframes = init_reset(rnorm, .25, 200)\n",
    "fig, ax = plt.subplots(figsize = (8,8))\n",
    "\n",
    "scat = plt.scatter([], [], marker = '.', animated=True)\n",
    "\n",
    "def data_gen():\n",
    "    cnt = 0\n",
    "    while cnt < nframes:\n",
    "        print(cnt)\n",
    "        update_positions_and_velocities()\n",
    "        cnt += 1\n",
    "        yield config.r_\n",
    "\n",
    "\n",
    "\n",
    "def init():\n",
    "    plt.axis('equal')\n",
    "    plt.axis('off')\n",
    "    ax.set_xlim(-10*rnorm,10*rnorm)\n",
    "    ax.set_ylim(-10*rnorm,10*rnorm)\n",
    "\n",
    "    return scat,\n",
    "\n",
    "def update(data):\n",
    "    update_positions_and_velocities()\n",
    "    \n",
    "    #print((~config.r_.mask[:,0]).sum())\n",
    "    scat.set_offsets(config.r_)\n",
    "    return scat,\n",
    "\n",
    "ani = FuncAnimation(fig, update, nframes,\n",
    "                    init_func=init, blit=True, \n",
    "                    interval = dt*10000)\n",
    "HTML(ani.to_html5_video())\n",
    "#plt.clf()"
   ]
  }
 ],
 "metadata": {
  "kernelspec": {
   "display_name": "Python 3",
   "language": "python",
   "name": "python3"
  },
  "language_info": {
   "codemirror_mode": {
    "name": "ipython",
    "version": 3
   },
   "file_extension": ".py",
   "mimetype": "text/x-python",
   "name": "python",
   "nbconvert_exporter": "python",
   "pygments_lexer": "ipython3",
   "version": "3.5.2"
  }
 },
 "nbformat": 4,
 "nbformat_minor": 2
}
